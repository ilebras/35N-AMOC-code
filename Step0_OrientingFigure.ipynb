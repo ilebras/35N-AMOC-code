{
 "cells": [
  {
   "cell_type": "code",
   "execution_count": null,
   "metadata": {},
   "outputs": [],
   "source": [
    "%matplotlib inline\n",
    "from pylab import *\n",
    "import xarray as xr\n",
    "from xgcm import Grid\n",
    "import scipy.signal as sig\n",
    "import matplotlib.gridspec as gridspec\n",
    "import cartopy.crs as ccrs"
   ]
  },
  {
   "cell_type": "code",
   "execution_count": null,
   "metadata": {},
   "outputs": [],
   "source": [
    "basedir='/vortexfs1/home/ilebras/'\n",
    "datadir=basedir+'data/'\n",
    "figdir=basedir+'figures/NASA_AMOC/October2022_paperfigs/'"
   ]
  },
  {
   "cell_type": "code",
   "execution_count": null,
   "metadata": {},
   "outputs": [],
   "source": [
    "LW=xr.open_dataset(datadir+'LineW/LineW_moorings_dailygridded_April2021.nc')"
   ]
  },
  {
   "cell_type": "code",
   "execution_count": null,
   "metadata": {},
   "outputs": [],
   "source": [
    "LW.dist"
   ]
  },
  {
   "cell_type": "code",
   "execution_count": null,
   "metadata": {},
   "outputs": [],
   "source": [
    "date_start='2004-5-1'\n",
    "date_end='2014-5-1'"
   ]
  },
  {
   "cell_type": "code",
   "execution_count": null,
   "metadata": {},
   "outputs": [],
   "source": [
    "LWmerge=xr.open_dataset(datadir+'NASA_AMOC/Section35N_Step3.nc').sel(date=slice(date_start,date_end))"
   ]
  },
  {
   "cell_type": "code",
   "execution_count": null,
   "metadata": {},
   "outputs": [],
   "source": [
    "dmap=xr.open_dataset(datadir+'Willis/August2022/amoc_diff_velmap.nc')\n",
    "xray=xr.open_dataset(datadir+'Willis/ilebras/Willis_allvars_Aug2022.nc')\n",
    "dmap['date']=(['time'],xray.date.values)\n",
    "dmap=dmap.swap_dims({'time':'date'})\n",
    "dmap=dmap.sel(date=slice(date_start,date_end)).mean(dim='date')\n",
    "dmap['lon']=dmap.lon-360"
   ]
  },
  {
   "cell_type": "code",
   "execution_count": null,
   "metadata": {},
   "outputs": [],
   "source": [
    "speed=sqrt(dmap.umap**2+dmap.vmap**2)"
   ]
  },
  {
   "cell_type": "code",
   "execution_count": null,
   "metadata": {},
   "outputs": [],
   "source": [
    "from mpl_toolkits.basemap import Basemap, shiftgrid\n",
    "from mpl_toolkits.basemap import cm as bcm\n",
    "\n",
    "map = Basemap(llcrnrlon=-80.,llcrnrlat=21.,urcrnrlon=0.,urcrnrlat=51.,\\\n",
    "            rsphere=(6378137.00,6356752.3142),\\\n",
    "            resolution='l',projection='merc',\\\n",
    "            lat_0=40.,lon_0=-20.,lat_ts=20.)\n"
   ]
  },
  {
   "cell_type": "code",
   "execution_count": null,
   "metadata": {},
   "outputs": [],
   "source": [
    "latch=35\n",
    "lonx=LW.lon[0]+(LW.lon[4]-LW.lon[0])*(latch-LW.lat[0])/(LW.lat[4]-LW.lat[0])"
   ]
  },
  {
   "cell_type": "code",
   "execution_count": null,
   "metadata": {},
   "outputs": [],
   "source": [
    "def make_cmap(colors, position=None, bit=False):\n",
    "    '''\n",
    "    make_cmap takes a list of tuples which contain RGB values. The RGB\n",
    "    values may either be in 8-bit [0 to 255] (in which bit must be set to\n",
    "    True when called) or arithmetic [0 to 1] (default). make_cmap returns\n",
    "    a cmap with equally spaced colors.\n",
    "    Arrange your tuples so that the first color is the lowest value for the\n",
    "    colorbar and the last is the highest.\n",
    "    position contains values from 0 to 1 to dictate the location of each color.\n",
    "    '''\n",
    "    import matplotlib as mpl\n",
    "    import numpy as np\n",
    "    bit_rgb = np.linspace(0,1,256)\n",
    "    if position == None:\n",
    "        position = np.linspace(0,1,len(colors))\n",
    "    else:\n",
    "        if len(position) != len(colors):\n",
    "            sys.exit(\"position length must be the same as colors\")\n",
    "        elif position[0] != 0 or position[-1] != 1:\n",
    "            sys.exit(\"position must start with 0 and end with 1\")\n",
    "    if bit:\n",
    "        for i in range(len(colors)):\n",
    "            colors[i] = (bit_rgb[colors[i][0]],\n",
    "                         bit_rgb[colors[i][1]],\n",
    "                         bit_rgb[colors[i][2]])\n",
    "    cdict = {'red':[], 'green':[], 'blue':[]}\n",
    "    for pos, color in zip(position, colors):\n",
    "        cdict['red'].append((pos, color[0], color[0]))\n",
    "        cdict['green'].append((pos, color[1], color[1]))\n",
    "        cdict['blue'].append((pos, color[2], color[2]))\n",
    "\n",
    "    cmap = mpl.colors.LinearSegmentedColormap('my_colormap',cdict,256)\n",
    "    return cmap"
   ]
  },
  {
   "cell_type": "code",
   "execution_count": null,
   "metadata": {},
   "outputs": [],
   "source": [
    "vmini=-15\n",
    "vmaxi=60\n",
    "zeropt=-vmini/(vmaxi-vmini)\n",
    "new_cmap=make_cmap([(5,48,97),(33,102,172),(247,247,247),(103,0,31)],[0,zeropt/2,zeropt,1],bit=True)"
   ]
  },
  {
   "cell_type": "code",
   "execution_count": null,
   "metadata": {},
   "outputs": [],
   "source": [
    "#left over from when I was plotting Line W data instead of merged product\n",
    "# def grid4plot(var):\n",
    "#     varnew=var.copy()\n",
    "#     for ii,mm in enumerate(LW.moor):\n",
    "#         nanind=isnan(var[:,ii])\n",
    "#         nonanind=~isnan(var[:,ii])\n",
    "#         varnew[nanind,ii]=var[nonanind,ii][-1]\n",
    "\n",
    "#     varfin=vstack(([varnew[:,0],varnew[:,0],varnew[:,1],varnew[:,2],varnew[:,3],varnew[:,4],varnew[:,5],varnew[:,5]]))\n",
    "#     newdist=hstack(([LW.dist.values[0]-15,LW.dist.values,LW.dist.values[-1]+15]))\n",
    "\n",
    "#     return newdist,varfin.T"
   ]
  },
  {
   "cell_type": "code",
   "execution_count": null,
   "metadata": {},
   "outputs": [],
   "source": [
    "from scipy import io\n",
    "lwbathy=io.loadmat(datadir+'LineW/line_w_bathy.mat')\n",
    "lwb_dist=lwbathy['dist'].flatten()\n",
    "lwb_z=lwbathy['z'].flatten()"
   ]
  },
  {
   "cell_type": "code",
   "execution_count": null,
   "metadata": {},
   "outputs": [],
   "source": [
    "def max_out_for_cbar(mat,vmini,vmaxi):\n",
    "    mat_fixed=mat.copy()\n",
    "    mat_fixed[mat_fixed>vmaxi]=vmaxi\n",
    "    mat_fixed[mat_fixed<vmini]=vmini\n",
    "    return mat_fixed"
   ]
  },
  {
   "cell_type": "code",
   "execution_count": null,
   "metadata": {},
   "outputs": [],
   "source": [
    "lonmat,latmat=meshgrid(dmap.lon,dmap.lat)"
   ]
  },
  {
   "cell_type": "code",
   "execution_count": null,
   "metadata": {},
   "outputs": [],
   "source": [
    "LWmoor_trans=xr.open_dataset(datadir+'NASA_AMOC/LWtrans_moor.nc')\n",
    "Willis_LWtrans=xr.open_dataset(datadir+'NASA_AMOC/LWtrans_Willis.nc')"
   ]
  },
  {
   "cell_type": "code",
   "execution_count": null,
   "metadata": {},
   "outputs": [],
   "source": [
    "def smoothfunc(tseries):\n",
    "   # Design the Buterworth filter\n",
    "    ## 2nd order 3 month default filter\n",
    "    N  = 2    # Filter order\n",
    "    Wn = 1/(365.25/4) # Cutoff frequency (3 months)\n",
    "    B, A = sig.butter(N, Wn, output='ba')\n",
    "    tseries_sm=sig.filtfilt(B,A,tseries)\n",
    "    return tseries_sm"
   ]
  },
  {
   "cell_type": "code",
   "execution_count": null,
   "metadata": {},
   "outputs": [],
   "source": [
    "fig = plt.figure(constrained_layout=True,figsize=(7,9))\n",
    "spec = fig.add_gridspec(ncols=1, nrows=3, height_ratios=[1.25,1.25,1],hspace=0.2)\n",
    "aspct=15\n",
    "ax1=fig.add_subplot(spec[0,0])\n",
    "map.contour(lonmat,latmat,dmap.bathy,levels=[-3000],latlon=True,colors='grey',linestyles='solid')\n",
    "map.contourf(lonmat,latmat,speed.values*100,51,latlon=True,cmap=cm.Purples,extend='both')\n",
    "colorbar(label='\\nspeed at 1000m [cm/s]',ticks=arange(-5,20.5,5),aspect=aspct)\n",
    "map.plot([LWmerge.loni[0], lonx],[LWmerge.lat[0],35],'-',color='k',latlon=True,linewidth=3)\n",
    "map.plot([lonx,-7],[35,35],'-',latlon=True,linewidth=3,color='k')\n",
    "map.plot(LW.lon.values,LW.lat.values,'ko',latlon=True,markersize=8)\n",
    "map.plot(LW.lon.values,LW.lat.values,'o',color='limegreen',latlon=True,markersize=4,linewidth=4)\n",
    "map.plot([-67,-7],[41,41],'--',color='k',latlon=True,linewidth=2)\n",
    "x1,y1=map(-40,27)\n",
    "ax1.text(x1,y1,'26N: RAPID',color='k',fontsize=12,weight='bold')\n",
    "x1,y1=map(-45,42)\n",
    "ax1.text(x1,y1,'41N: Willis 2010',color='k',fontsize=12,weight='bold')\n",
    "# x1,y1=map(-33,36)\n",
    "# ax1.text(x1,y1,'MAR',color='k',fontsize=14,weight='bold')\n",
    "x1,y1=map(-70,32)\n",
    "ax1.text(x1,y1,'35N: this study',color='k',fontsize=14,weight='bold')\n",
    "map.plot([-80,-14],[26,26],'--',color='k',latlon=True,linewidth=2)\n",
    "\n",
    "map.fillcontinents(color='k',zorder=80);\n",
    "map.drawparallels(np.arange(10,90,5),labels=[1,0,0,1],linewidth=0.0001,ax=ax1)\n",
    "map.drawmeridians(np.arange(-180,180,20),labels=[1,1,0,1],linewidth=0.0001,ax=ax1)\n",
    "#############\n",
    "distmax=350\n",
    "ax2=fig.add_subplot(spec[1,0])\n",
    "vg_linew=100*LWmerge['vg'].sel(dist=slice(0,LW.dist[4]+10)).mean(dim='date').interpolate_na(dim='depth',method='linear',fill_value='extrapolate')\n",
    "vg_beyond=100*(LWmerge['trans_tot']/LWmerge['distdiff']/LWmerge['depthdiff']*1e6).sel(dist=slice(LW.dist[4]+10,distmax)).mean(dim='date')\n",
    "plot_vg=max_out_for_cbar(xr.concat((vg_linew,vg_beyond),dim='dist').values,vmini,vmaxi)\n",
    "contourf(LWmerge.dist.sel(dist=slice(0,distmax)),LWmerge.depth,plot_vg,101,vmin=vmini,vmax=vmaxi,cmap=new_cmap,extend='both')\n",
    "colorbar(label='across track velocity [cm/s]',ticks=hstack((arange(-10,0,10),arange(0,75,25))),aspect=aspct)\n",
    "contour(LWmerge.dist.sel(dist=slice(0,distmax)),LWmerge.depth,plot_vg,colors='k',levels=hstack((arange(-10,0,2),arange(0,50,10))))\n",
    "[axvline(dd,color='limegreen',linewidth=4) for dd in LW.dist[:-1]]\n",
    "[axvline(dd,color='k',linewidth=2) for dd in LW.dist[:-1]]\n",
    "# fill_between([280,400],[2e3,2e3],color='grey',hatch='X')\n",
    "fill_between(lwb_dist,lwb_z,6e3*ones(len(lwb_z)),color='k',zorder=100)\n",
    "ylabel('depth [m]')\n",
    "xlabel('distance [km]')\n",
    "ylim(5e3,0)\n",
    "xlim(30,distmax-15)\n",
    "\n",
    "#############\n",
    "ax3=fig.add_subplot(spec[2,0])\n",
    "LWmoor_trans['__xarray_dataarray_variable__'].plot(alpha=0.3,ax=ax3,color='limegreen')\n",
    "ax3.plot(LW.date,smoothfunc(LWmoor_trans['__xarray_dataarray_variable__']),color='limegreen',label='Line W',lw=2)\n",
    "Willis_LWtrans['trans'].plot(label='Float + Altimeter',color='purple',ax=ax3,lw=2)\n",
    "ax3.set_ylabel('Transport [Sv]')\n",
    "ax3.legend(loc=2)\n",
    "# title('Transport across the Line W section 500m-2000m')\n",
    "ax3.set_xlim(LW.date[0].values,LW.date[-1].values)\n",
    "ax3.set_ylim(-35,35)\n",
    "ax3.set_xlabel('')\n",
    "ax3.set_xticklabels([str(ii) for ii in range(2004,2015)],rotation=0,ha='center');\n",
    "#############\n",
    "labf=12\n",
    "t=ax1.text(0.015,0.05,'a)',transform = ax1.transAxes,color='black',fontsize=labf,zorder=1e10,fontweight='bold')\n",
    "t.set_bbox(dict(facecolor='white',linewidth=0,pad=0.5))\n",
    "t=ax2.text(0.015,0.05,'b)',transform = ax2.transAxes,color='black',fontsize=labf,zorder=1e10,fontweight='bold')\n",
    "t.set_bbox(dict(facecolor='white',linewidth=0,pad=1))\n",
    "ax2.fill_between([300,380],[2000,2000],[5000,5000],hatch='o',alpha=0,zorder=99)\n",
    "ax3.text(0.015,0.05,'c)',transform = ax3.transAxes,color='black',fontsize=labf,zorder=1e10,fontweight='bold')\n",
    "\n",
    "savefig(figdir+'Map_LW35.png',dpi=300,bbox_inches='tight')\n",
    "savefig(figdir+'Map_LW35.pdf',bbox_inches='tight')"
   ]
  },
  {
   "cell_type": "code",
   "execution_count": null,
   "metadata": {},
   "outputs": [],
   "source": [
    "LWmoor_trans['smooth']=(['date'],smoothfunc(LWmoor_trans['__xarray_dataarray_variable__']))\n",
    "Willis_trans=Willis_LWtrans['trans']"
   ]
  },
  {
   "cell_type": "code",
   "execution_count": null,
   "metadata": {},
   "outputs": [],
   "source": [
    "corrcoef(LWmoor_trans['smooth'].interp(date=Willis_trans.date),Willis_trans)"
   ]
  },
  {
   "cell_type": "code",
   "execution_count": null,
   "metadata": {},
   "outputs": [],
   "source": []
  }
 ],
 "metadata": {
  "kernelspec": {
   "display_name": "Python 3",
   "language": "python",
   "name": "python3"
  },
  "language_info": {
   "codemirror_mode": {
    "name": "ipython",
    "version": 3
   },
   "file_extension": ".py",
   "mimetype": "text/x-python",
   "name": "python",
   "nbconvert_exporter": "python",
   "pygments_lexer": "ipython3",
   "version": "3.8.8"
  }
 },
 "nbformat": 4,
 "nbformat_minor": 4
}
